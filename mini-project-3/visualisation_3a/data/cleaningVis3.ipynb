{
 "cells": [
  {
   "cell_type": "code",
   "execution_count": 66,
   "metadata": {},
   "outputs": [],
   "source": [
    "import pandas as pd"
   ]
  },
  {
   "cell_type": "code",
   "execution_count": 67,
   "metadata": {},
   "outputs": [],
   "source": [
    "df = pd.read_csv(\"./aidData.csv\")"
   ]
  },
  {
   "cell_type": "code",
   "execution_count": 68,
   "metadata": {},
   "outputs": [],
   "source": [
    "data_agg = df.groupby(['coalesced_purpose_code'], as_index=False).agg({\"commitment_amount_usd_constant\": \"sum\"})"
   ]
  },
  {
   "cell_type": "code",
   "execution_count": 69,
   "metadata": {},
   "outputs": [
    {
     "data": {
      "text/html": [
       "<div>\n",
       "<style scoped>\n",
       "    .dataframe tbody tr th:only-of-type {\n",
       "        vertical-align: middle;\n",
       "    }\n",
       "\n",
       "    .dataframe tbody tr th {\n",
       "        vertical-align: top;\n",
       "    }\n",
       "\n",
       "    .dataframe thead th {\n",
       "        text-align: right;\n",
       "    }\n",
       "</style>\n",
       "<table border=\"1\" class=\"dataframe\">\n",
       "  <thead>\n",
       "    <tr style=\"text-align: right;\">\n",
       "      <th></th>\n",
       "      <th>coalesced_purpose_code</th>\n",
       "      <th>commitment_amount_usd_constant</th>\n",
       "    </tr>\n",
       "  </thead>\n",
       "  <tbody>\n",
       "    <tr>\n",
       "      <th>92</th>\n",
       "      <td>21050</td>\n",
       "      <td>3.981348e+10</td>\n",
       "    </tr>\n",
       "    <tr>\n",
       "      <th>90</th>\n",
       "      <td>21030</td>\n",
       "      <td>2.078091e+10</td>\n",
       "    </tr>\n",
       "    <tr>\n",
       "      <th>170</th>\n",
       "      <td>32120</td>\n",
       "      <td>1.974833e+10</td>\n",
       "    </tr>\n",
       "    <tr>\n",
       "      <th>230</th>\n",
       "      <td>60040</td>\n",
       "      <td>1.795495e+10</td>\n",
       "    </tr>\n",
       "    <tr>\n",
       "      <th>105</th>\n",
       "      <td>23020</td>\n",
       "      <td>1.634623e+10</td>\n",
       "    </tr>\n",
       "  </tbody>\n",
       "</table>\n",
       "</div>"
      ],
      "text/plain": [
       "     coalesced_purpose_code  commitment_amount_usd_constant\n",
       "92                    21050                    3.981348e+10\n",
       "90                    21030                    2.078091e+10\n",
       "170                   32120                    1.974833e+10\n",
       "230                   60040                    1.795495e+10\n",
       "105                   23020                    1.634623e+10"
      ]
     },
     "execution_count": 69,
     "metadata": {},
     "output_type": "execute_result"
    }
   ],
   "source": [
    "data_agg.nlargest(5, 'commitment_amount_usd_constant')"
   ]
  },
  {
   "cell_type": "code",
   "execution_count": 70,
   "metadata": {},
   "outputs": [],
   "source": [
    "purpose_list = [21030,21050,23020,32120,60040]"
   ]
  },
  {
   "cell_type": "code",
   "execution_count": 71,
   "metadata": {},
   "outputs": [],
   "source": [
    "data_r = df[[\"recipient\",\"donor\",\"coalesced_purpose_code\",\"commitment_amount_usd_constant\"]]"
   ]
  },
  {
   "cell_type": "code",
   "execution_count": 73,
   "metadata": {},
   "outputs": [],
   "source": [
    "data_r = data_r[data_r['coalesced_purpose_code'].isin([purpose for purpose in purpose_list])]"
   ]
  },
  {
   "cell_type": "code",
   "execution_count": 74,
   "metadata": {},
   "outputs": [],
   "source": [
    "data_r = data_r.groupby(['recipient','donor','coalesced_purpose_code'], as_index=False).agg({\"commitment_amount_usd_constant\": \"sum\"})"
   ]
  },
  {
   "cell_type": "code",
   "execution_count": 75,
   "metadata": {},
   "outputs": [],
   "source": [
    "data_f = data_r.groupby([\"recipient\",\"donor\"])['coalesced_purpose_code'].apply(list)"
   ]
  },
  {
   "cell_type": "code",
   "execution_count": 76,
   "metadata": {},
   "outputs": [],
   "source": [
    "data_f.to_csv(\"./piFinalData.csv\")"
   ]
  },
  {
   "cell_type": "code",
   "execution_count": 77,
   "metadata": {},
   "outputs": [],
   "source": [
    "data_r = data_r.groupby(['recipient','donor'], as_index=False).agg({\"commitment_amount_usd_constant\": \"sum\"})"
   ]
  },
  {
   "cell_type": "code",
   "execution_count": 78,
   "metadata": {},
   "outputs": [],
   "source": [
    "donor = data_r['donor'].unique()"
   ]
  },
  {
   "cell_type": "code",
   "execution_count": 79,
   "metadata": {},
   "outputs": [],
   "source": [
    "recipient = data_r['recipient'].unique()"
   ]
  },
  {
   "cell_type": "code",
   "execution_count": 80,
   "metadata": {},
   "outputs": [],
   "source": [
    "list_ = list(donor) + list(recipient)"
   ]
  },
  {
   "cell_type": "code",
   "execution_count": 81,
   "metadata": {},
   "outputs": [],
   "source": [
    "my_set = set(list_)\n",
    "my_new_list = list(my_set)"
   ]
  },
  {
   "cell_type": "code",
   "execution_count": 82,
   "metadata": {},
   "outputs": [
    {
     "data": {
      "text/plain": [
       "['Taiwan',\n",
       " 'Chile',\n",
       " 'Slovenia',\n",
       " 'New Zealand',\n",
       " 'United States',\n",
       " 'Qatar',\n",
       " 'Kuwait',\n",
       " 'Sweden',\n",
       " 'Finland',\n",
       " 'Estonia',\n",
       " 'Iceland',\n",
       " 'India',\n",
       " 'Canada',\n",
       " 'Ireland',\n",
       " 'France',\n",
       " 'Lithuania',\n",
       " 'Austria',\n",
       " 'Cyprus',\n",
       " 'Denmark',\n",
       " 'Australia',\n",
       " 'Hungary',\n",
       " 'Czech Republic',\n",
       " 'Japan',\n",
       " 'Brazil',\n",
       " 'South Africa',\n",
       " 'Romania',\n",
       " 'Belgium',\n",
       " 'Luxembourg',\n",
       " 'Saudi Arabia',\n",
       " 'Germany',\n",
       " 'Norway',\n",
       " 'Liechtenstein',\n",
       " 'Latvia',\n",
       " 'Slovak Republic',\n",
       " 'Spain',\n",
       " 'Colombia',\n",
       " 'Portugal',\n",
       " 'Netherlands',\n",
       " 'Italy',\n",
       " 'Greece',\n",
       " 'United Arab Emirates',\n",
       " 'United Kingdom',\n",
       " 'Poland',\n",
       " 'Thailand',\n",
       " 'Switzerland',\n",
       " 'Korea']"
      ]
     },
     "execution_count": 82,
     "metadata": {},
     "output_type": "execute_result"
    }
   ],
   "source": [
    "my_new_list "
   ]
  },
  {
   "cell_type": "code",
   "execution_count": 83,
   "metadata": {},
   "outputs": [],
   "source": [
    "import numpy as np\n",
    "np.savetxt(\"allNodes.csv\", my_new_list , delimiter=\",\", fmt='%s', header=\"node\")"
   ]
  },
  {
   "cell_type": "code",
   "execution_count": 84,
   "metadata": {},
   "outputs": [],
   "source": [
    "import csv\n",
    "with open('piFinalData.csv', newline='') as csvfile:\n",
    "    spamreader = csv.reader(csvfile, delimiter=' ', quotechar='|')\n",
    "    for row in spamreader:\n",
    "        row"
   ]
  },
  {
   "cell_type": "code",
   "execution_count": null,
   "metadata": {},
   "outputs": [],
   "source": []
  }
 ],
 "metadata": {
  "kernelspec": {
   "display_name": "Python 3",
   "language": "python",
   "name": "python3"
  },
  "language_info": {
   "codemirror_mode": {
    "name": "ipython",
    "version": 3
   },
   "file_extension": ".py",
   "mimetype": "text/x-python",
   "name": "python",
   "nbconvert_exporter": "python",
   "pygments_lexer": "ipython3",
   "version": "3.7.1"
  }
 },
 "nbformat": 4,
 "nbformat_minor": 2
}
