{
 "cells": [
  {
   "cell_type": "code",
   "execution_count": 144,
   "metadata": {},
   "outputs": [],
   "source": [
    "import pandas as pd"
   ]
  },
  {
   "cell_type": "code",
   "execution_count": 145,
   "metadata": {},
   "outputs": [],
   "source": [
    "df = pd.read_csv(\"./aiddata.csv\")\n",
    "data_r = df[[\"recipient\",\"donor\",\"coalesced_purpose_name\",\"commitment_amount_usd_constant\"]]\n",
    "data_r.groupby(['recipient','donor','coalesced_purpose_name'], as_index=False).agg({\"commitment_amount_usd_constant\": \"sum\"})"
   ]
  },
  {
   "cell_type": "code",
   "execution_count": 148,
   "metadata": {},
   "outputs": [
    {
     "data": {
      "text/plain": [
       "Sectors not specified          8076\n",
       "Social/ welfare services       6228\n",
       "Strengthening civil society    5600\n",
       "Higher education               4593\n",
       "Multisector aid                3026\n",
       "Name: coalesced_purpose_name, dtype: int64"
      ]
     },
     "execution_count": 148,
     "metadata": {},
     "output_type": "execute_result"
    }
   ],
   "source": [
    "df['coalesced_purpose_name'].value_counts().nlargest(5)"
   ]
  },
  {
   "cell_type": "code",
   "execution_count": 149,
   "metadata": {},
   "outputs": [],
   "source": [
    "purpose_list = [\"Sectors not specified\",\"Social/ welfare services\",\"Strengthening civil society\",\"Higher education\",\"Multisector aid\"]\n",
    "df_dict = {}"
   ]
  },
  {
   "cell_type": "code",
   "execution_count": 151,
   "metadata": {},
   "outputs": [],
   "source": [
    "for item in purpose_list:\n",
    "    df_dict[item] = data_r[data_r['coalesced_purpose_name'] == item]\n",
    "    df_dict[item] = df_dict[item].groupby(['recipient','donor','coalesced_purpose_name'], as_index=False).agg({\"commitment_amount_usd_constant\": \"sum\"})\n",
    "    try:\n",
    "        df_dict[item].to_csv(item+\".csv\",index=True,sep=',')\n",
    "    except:\n",
    "        pass"
   ]
  },
  {
   "cell_type": "code",
   "execution_count": 152,
   "metadata": {},
   "outputs": [],
   "source": [
    "df_dict[\"Social/ welfare services\"].to_csv(\"Social welfare services.csv\",index=True,sep=',')"
   ]
  },
  {
   "cell_type": "code",
   "execution_count": 153,
   "metadata": {},
   "outputs": [
    {
     "data": {
      "text/plain": [
       "array(['Saudi Arabia', 'Kuwait', 'Qatar', 'Brazil', 'Colombia', 'Estonia',\n",
       "       'Hungary', 'United States', 'Thailand', 'Liechtenstein',\n",
       "       'Slovak Republic', 'Monaco', 'Chile', 'Taiwan',\n",
       "       'United Arab Emirates', 'Belgium', 'Japan', 'Austria', 'Italy',\n",
       "       'Germany', 'Sweden', 'Luxembourg', 'Spain', 'Denmark', 'France',\n",
       "       'Norway', 'Portugal', 'Switzerland', 'United Kingdom', 'Finland',\n",
       "       'Ireland', 'Australia', 'Canada', 'Korea', 'Greece', 'Netherlands',\n",
       "       'New Zealand', 'Cyprus', 'Czech Republic', 'Slovenia', 'Iceland',\n",
       "       'Poland'], dtype=object)"
      ]
     },
     "execution_count": 153,
     "metadata": {},
     "output_type": "execute_result"
    }
   ],
   "source": [
    "data_r['donor'].unique()"
   ]
  },
  {
   "cell_type": "code",
   "execution_count": 154,
   "metadata": {},
   "outputs": [
    {
     "data": {
      "text/plain": [
       "array(['India', 'Brazil', 'Taiwan', 'Korea', 'Cyprus', 'Lithuania',\n",
       "       'Thailand', 'Slovak Republic', 'United States', 'South Africa',\n",
       "       'Colombia', 'France', 'Chile', 'Poland', 'Czech Republic',\n",
       "       'Romania', 'Canada', 'Australia', 'Sweden', 'Hungary', 'Denmark',\n",
       "       'Finland', 'Greece', 'Austria', 'Ireland', 'Japan', 'Luxembourg',\n",
       "       'Saudi Arabia', 'New Zealand', 'United Kingdom', 'Belgium',\n",
       "       'Norway', 'Italy', 'Portugal', 'Qatar', 'Spain', 'Kuwait',\n",
       "       'Liechtenstein', 'Latvia', 'Estonia', 'Iceland', 'Switzerland',\n",
       "       'Germany', 'Slovenia', 'United Arab Emirates'], dtype=object)"
      ]
     },
     "execution_count": 154,
     "metadata": {},
     "output_type": "execute_result"
    }
   ],
   "source": [
    "data_r['recipient'].unique()\n"
   ]
  },
  {
   "cell_type": "code",
   "execution_count": 155,
   "metadata": {},
   "outputs": [],
   "source": [
    "donor_df = data_r.groupby(['donor'], as_index=False).agg({\"commitment_amount_usd_constant\": \"sum\"})"
   ]
  },
  {
   "cell_type": "code",
   "execution_count": 156,
   "metadata": {},
   "outputs": [],
   "source": [
    "recipient_df = data_r.groupby(['recipient'], as_index=False).agg({\"commitment_amount_usd_constant\": \"sum\"})"
   ]
  },
  {
   "cell_type": "code",
   "execution_count": 157,
   "metadata": {},
   "outputs": [],
   "source": [
    "donor_df.to_csv(\"donor.csv\",index=True,sep=',')\n",
    "recipient_df.to_csv(\"recipient.csv\",index=True,sep=',')"
   ]
  },
  {
   "cell_type": "code",
   "execution_count": null,
   "metadata": {},
   "outputs": [],
   "source": []
  }
 ],
 "metadata": {
  "kernelspec": {
   "display_name": "Python 3",
   "language": "python",
   "name": "python3"
  },
  "language_info": {
   "codemirror_mode": {
    "name": "ipython",
    "version": 3
   },
   "file_extension": ".py",
   "mimetype": "text/x-python",
   "name": "python",
   "nbconvert_exporter": "python",
   "pygments_lexer": "ipython3",
   "version": "3.7.1"
  }
 },
 "nbformat": 4,
 "nbformat_minor": 2
}
